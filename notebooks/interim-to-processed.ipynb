{
 "cells": [
  {
   "cell_type": "code",
   "execution_count": 35,
   "metadata": {},
   "outputs": [],
   "source": [
    "import pandas as pd\n",
    "import numpy as np"
   ]
  },
  {
   "cell_type": "markdown",
   "metadata": {},
   "source": [
    "# 1. BB_atta-flours-sooji.csv"
   ]
  },
  {
   "cell_type": "code",
   "execution_count": 36,
   "metadata": {},
   "outputs": [],
   "source": [
    "atta_path = r\"D:\\whatsapp-retailer-chatbot\\data\\interim\\BB_atta-flours-sooji.csv\"\n",
    "atta_export_path = r\"D:\\whatsapp-retailer-chatbot\\data\\processed\\clean_atta-flours-sooji.csv\"\n",
    "df_atta = pd.read_csv(atta_path)\n",
    "\n",
    "df_atta.columns = ['ProductName', 'SellingPrice', 'NumOfRatings', 'Mrp',\n",
    "       'Discount', 'Brand', 'Rating', 'Combos', 'QuantityDisplay']\n",
    "\n",
    "spec_chars = [\"!\",'\"',\"#\",\"%\",\"&\",\"'\",\"(\",\")\",\n",
    "              \"*\",\"+\",\",\",\"-\",\".\",\"/\",\":\",\";\",\"<\",\n",
    "              \"=\",\">\",\"?\",\"@\",\"[\",\"\\\\\",\"]\",\"^\",\"_\",\n",
    "              \"`\",\"{\",\"|\",\"}\",\"~\",\"–\"]\n",
    "\n",
    "df_atta = df_atta[df_atta['ProductName'].notna()]\n",
    "\n",
    "for char in spec_chars:\n",
    "    df_atta['ProductName'] = df_atta['ProductName'].str.replace(char, ' ')\n",
    "    df_atta['Brand'] = df_atta['Brand'].str.replace(char, ' ')\n",
    "    df_atta['Combos'] = df_atta['Combos'].str.replace(char, ' ')\n",
    "    df_atta['QuantityDisplay'] = df_atta['QuantityDisplay'].str.replace(char, ' ')\n",
    "    \n",
    "df_atta.to_csv(atta_export_path, index=False, header=True)"
   ]
  },
  {
   "cell_type": "code",
   "execution_count": null,
   "metadata": {},
   "outputs": [],
   "source": []
  },
  {
   "cell_type": "markdown",
   "metadata": {},
   "source": [
    "# 2. BB_bakery-cakes-diary.csv"
   ]
  },
  {
   "cell_type": "code",
   "execution_count": 37,
   "metadata": {},
   "outputs": [],
   "source": [
    "cakes_path = r\"D:\\whatsapp-retailer-chatbot\\data\\interim\\BB_bakery-cakes-diary.csv\"\n",
    "cakes_export_path = r\"D:\\whatsapp-retailer-chatbot\\data\\processed\\clean_bakery-cakes-diary.csv\"\n",
    "\n",
    "df_cakes = pd.read_csv(cakes_path)\n",
    "df_cakes.head()\n",
    "\n",
    "df_cakes.columns = ['ProductName', 'NumOfRatings', 'SellingPrice', 'Brand', 'Mrp',\n",
    "       'Combos', 'Discount', 'Rating', 'QuantityDisplay']\n",
    "\n",
    "df_cakes = df_cakes[df_cakes['ProductName'].notna()]\n",
    "\n",
    "for char in spec_chars:\n",
    "    df_cakes['ProductName'] = df_cakes['ProductName'].str.replace(char, ' ')\n",
    "    df_cakes['Brand'] = df_cakes['Brand'].str.replace(char, ' ')\n",
    "    df_cakes['Combos'] = df_cakes['Combos'].str.replace(char, ' ')\n",
    "    df_cakes['QuantityDisplay'] = df_cakes['QuantityDisplay'].str.replace(char, ' ')\n",
    "    \n",
    "df_cakes.to_csv(cakes_export_path, index=False, header=True)"
   ]
  },
  {
   "cell_type": "code",
   "execution_count": null,
   "metadata": {},
   "outputs": [],
   "source": []
  },
  {
   "cell_type": "markdown",
   "metadata": {},
   "source": [
    "# 3. BB_bath-handwash.csv"
   ]
  },
  {
   "cell_type": "code",
   "execution_count": 38,
   "metadata": {},
   "outputs": [],
   "source": [
    "bath_path = r\"D:\\whatsapp-retailer-chatbot\\data\\interim\\BB_bath-handwash.csv\"\n",
    "bath_export_path = r\"D:\\whatsapp-retailer-chatbot\\data\\processed\\clean_bath-handwash.csv\"\n",
    "\n",
    "df_bath = pd.read_csv(bath_path)\n",
    "df_bath.columns = ['ProductName', 'NumOfRatings', 'SellingPrice', 'Brand', 'Mrp',\n",
    "       'Discount', 'Combos', 'Rating', 'QuantityDisplay']\n",
    "\n",
    "df_bath = df_bath[df_bath['ProductName'].notna()]\n",
    "\n",
    "for char in spec_chars:\n",
    "    df_bath['ProductName'] = df_bath['ProductName'].str.replace(char, ' ')\n",
    "    df_bath['Brand'] = df_bath['Brand'].str.replace(char, ' ')\n",
    "    df_bath['Combos'] = df_bath['Combos'].str.replace(char, ' ')\n",
    "    df_bath['QuantityDisplay'] = df_bath['QuantityDisplay'].str.replace(char, ' ')\n",
    "    \n",
    "df_bath.to_csv(bath_export_path, index=False, header=True)"
   ]
  },
  {
   "cell_type": "code",
   "execution_count": null,
   "metadata": {},
   "outputs": [],
   "source": []
  },
  {
   "cell_type": "markdown",
   "metadata": {},
   "source": [
    "# 4. BB_biscuits-cookies.csv"
   ]
  },
  {
   "cell_type": "code",
   "execution_count": 39,
   "metadata": {},
   "outputs": [],
   "source": [
    "cookies_path = r\"D:\\whatsapp-retailer-chatbot\\data\\interim\\BB_biscuits-cookies.csv\"\n",
    "cookies_export_path = r\"D:\\whatsapp-retailer-chatbot\\data\\processed\\clean_biscuits-cookies.csv\"\n",
    "\n",
    "df_cookies = pd.read_csv(cookies_path)\n",
    "df_cookies.columns = ['ProductName', 'NumOfRatings', 'SellingPrice', 'Combos',\n",
    "       'QuantityDisplay', 'Mrp', 'Brand', 'Discount', 'Rating']\n",
    "\n",
    "df_cookies = df_cookies[df_cookies['ProductName'].notna()]\n",
    "\n",
    "for char in spec_chars:\n",
    "    df_cookies['ProductName'] = df_cookies['ProductName'].str.replace(char, ' ')\n",
    "    df_cookies['Brand'] = df_cookies['Brand'].str.replace(char, ' ')\n",
    "    df_cookies['Combos'] = df_cookies['Combos'].str.replace(char, ' ')\n",
    "    df_cookies['QuantityDisplay'] = df_cookies['QuantityDisplay'].str.replace(char, ' ')\n",
    "    \n",
    "df_cookies.to_csv(cookies_export_path, index=False, header=True)"
   ]
  },
  {
   "cell_type": "code",
   "execution_count": null,
   "metadata": {},
   "outputs": [],
   "source": []
  },
  {
   "cell_type": "markdown",
   "metadata": {},
   "source": [
    "# 5. BB_breakfast-cereals.csv"
   ]
  },
  {
   "cell_type": "code",
   "execution_count": 40,
   "metadata": {},
   "outputs": [],
   "source": [
    "breakfast_path = r\"D:\\whatsapp-retailer-chatbot\\data\\interim\\BB_breakfast-cereals.csv\"\n",
    "breakfast_export_path = r\"D:\\whatsapp-retailer-chatbot\\data\\processed\\clean_breakfast-cereals.csv\"\n",
    "\n",
    "df_break = pd.read_csv(breakfast_path)\n",
    "df_break.columns = ['NumOfRatings', 'ProductName', 'SellingPrice', 'Combos', 'Mrp',\n",
    "       'Discount', 'Brand', 'Rating', 'QuantityDisplay']\n",
    "\n",
    "df_break = df_break[df_break['ProductName'].notna()]\n",
    "\n",
    "for char in spec_chars:\n",
    "    df_break['ProductName'] = df_break['ProductName'].str.replace(char, ' ')\n",
    "    df_break['Brand'] = df_break['Brand'].str.replace(char, ' ')\n",
    "    df_break['Combos'] = df_break['Combos'].str.replace(char, ' ')\n",
    "    df_break['QuantityDisplay'] = df_break['QuantityDisplay'].str.replace(char, ' ')\n",
    "    \n",
    "df_break.to_csv(breakfast_export_path, index=False, header=True)"
   ]
  },
  {
   "cell_type": "code",
   "execution_count": null,
   "metadata": {},
   "outputs": [],
   "source": []
  },
  {
   "cell_type": "markdown",
   "metadata": {},
   "source": [
    "# 6. BB_choclates-candies.csv"
   ]
  },
  {
   "cell_type": "code",
   "execution_count": 41,
   "metadata": {},
   "outputs": [],
   "source": [
    "choc_path = r\"D:\\whatsapp-retailer-chatbot\\data\\interim\\BB_choclates-candies.csv\"\n",
    "choc_export_path = r\"D:\\whatsapp-retailer-chatbot\\data\\processed\\clean_choclates-candies.csv\"\n",
    "\n",
    "df_choc = pd.read_csv(choc_path)\n",
    "df_choc.columns = ['NumOfRatings', 'ProductName', 'SellingPrice', 'Combos', 'Brand',\n",
    "       'Mrp', 'Discount', 'Rating', 'QuantityDisplay']\n",
    "\n",
    "df_choc = df_choc[df_choc['ProductName'].notna()]\n",
    "\n",
    "for char in spec_chars:\n",
    "    df_choc['ProductName'] = df_choc['ProductName'].str.replace(char, ' ')\n",
    "    df_choc['Brand'] = df_choc['Brand'].str.replace(char, ' ')\n",
    "    df_choc['Combos'] = df_choc['Combos'].str.replace(char, ' ')\n",
    "    df_choc['QuantityDisplay'] = df_choc['QuantityDisplay'].str.replace(char, ' ')\n",
    "    \n",
    "df_choc.to_csv(choc_export_path, index=False, header=True)"
   ]
  },
  {
   "cell_type": "code",
   "execution_count": null,
   "metadata": {},
   "outputs": [],
   "source": []
  },
  {
   "cell_type": "markdown",
   "metadata": {},
   "source": [
    "# 7. BB_dals-pulses.csv"
   ]
  },
  {
   "cell_type": "code",
   "execution_count": 42,
   "metadata": {},
   "outputs": [],
   "source": [
    "choc_path = r\"D:\\whatsapp-retailer-chatbot\\data\\interim\\BB_dals-pulses.csv\"\n",
    "choc_export_path = r\"D:\\whatsapp-retailer-chatbot\\data\\processed\\clean_dals-pulses.csv\"\n",
    "\n",
    "df_choc = pd.read_csv(choc_path)\n",
    "df_choc.columns = ['ProductName', 'NumOfRatings', 'SellingPrice', 'Mrp',\n",
    "       'Discount', 'Brand', 'Rating', 'QuantityDisplay', 'Combos']\n",
    "\n",
    "df_choc = df_choc[df_choc['ProductName'].notna()]\n",
    "\n",
    "for char in spec_chars:\n",
    "    df_choc['ProductName'] = df_choc['ProductName'].str.replace(char, ' ')\n",
    "    df_choc['Brand'] = df_choc['Brand'].str.replace(char, ' ')\n",
    "    df_choc['Combos'] = df_choc['Combos'].str.replace(char, ' ')\n",
    "    df_choc['QuantityDisplay'] = df_choc['QuantityDisplay'].str.replace(char, ' ')\n",
    "    \n",
    "df_choc.to_csv(choc_export_path, index=False, header=True)"
   ]
  },
  {
   "cell_type": "code",
   "execution_count": null,
   "metadata": {},
   "outputs": [],
   "source": []
  },
  {
   "cell_type": "markdown",
   "metadata": {},
   "source": [
    "# 8. BB_dry-fruits.csv"
   ]
  },
  {
   "cell_type": "code",
   "execution_count": 43,
   "metadata": {},
   "outputs": [],
   "source": [
    "choc_path = r\"D:\\whatsapp-retailer-chatbot\\data\\interim\\BB_dry-fruits.csv\"\n",
    "choc_export_path = r\"D:\\whatsapp-retailer-chatbot\\data\\processed\\clean_dry-fruits.csv\"\n",
    "\n",
    "df_choc = pd.read_csv(choc_path)\n",
    "df_choc.columns = ['ProductName', 'SellingPrice', 'NumOfRatings', 'Mrp',\n",
    "       'Discount', 'Rating', 'Brand', 'QuantityDisplay']\n",
    "\n",
    "df_choc = df_choc[df_choc['ProductName'].notna()]\n",
    "\n",
    "for char in spec_chars:\n",
    "    df_choc['ProductName'] = df_choc['ProductName'].str.replace(char, ' ')\n",
    "    df_choc['Brand'] = df_choc['Brand'].str.replace(char, ' ')\n",
    "    df_choc['QuantityDisplay'] = df_choc['QuantityDisplay'].str.replace(char, ' ')\n",
    "    \n",
    "df_choc.to_csv(choc_export_path, index=False, header=True)"
   ]
  },
  {
   "cell_type": "code",
   "execution_count": null,
   "metadata": {},
   "outputs": [],
   "source": []
  },
  {
   "cell_type": "markdown",
   "metadata": {},
   "source": [
    "# 9. BB_edible-oils-ghee.csv"
   ]
  },
  {
   "cell_type": "code",
   "execution_count": 44,
   "metadata": {},
   "outputs": [],
   "source": [
    "choc_path = r\"D:\\whatsapp-retailer-chatbot\\data\\interim\\BB_edible-oils-ghee.csv\"\n",
    "choc_export_path = r\"D:\\whatsapp-retailer-chatbot\\data\\processed\\clean_edible-oils-ghee.csv\"\n",
    "\n",
    "df_choc = pd.read_csv(choc_path)\n",
    "df_choc.columns = ['SellingPrice', 'NumOfRatings', 'ProductName', 'Mrp',\n",
    "       'Discount', 'Brand', 'Rating', 'Combos', 'QuantityDisplay']\n",
    "\n",
    "df_choc = df_choc[df_choc['ProductName'].notna()]\n",
    "\n",
    "for char in spec_chars:\n",
    "    df_choc['ProductName'] = df_choc['ProductName'].str.replace(char, ' ')\n",
    "    df_choc['Brand'] = df_choc['Brand'].str.replace(char, ' ')\n",
    "    df_choc['Combos'] = df_choc['Combos'].str.replace(char, ' ')\n",
    "    df_choc['QuantityDisplay'] = df_choc['QuantityDisplay'].str.replace(char, ' ')\n",
    "    \n",
    "df_choc.to_csv(choc_export_path, index=False, header=True)"
   ]
  },
  {
   "cell_type": "code",
   "execution_count": null,
   "metadata": {},
   "outputs": [],
   "source": []
  },
  {
   "cell_type": "markdown",
   "metadata": {},
   "source": [
    "# 10. BB_eggs-meat-fish.csv"
   ]
  },
  {
   "cell_type": "code",
   "execution_count": 45,
   "metadata": {},
   "outputs": [],
   "source": [
    "choc_path = r\"D:\\whatsapp-retailer-chatbot\\data\\interim\\BB_eggs-meat-fish.csv\"\n",
    "choc_export_path = r\"D:\\whatsapp-retailer-chatbot\\data\\processed\\clean_eggs-meat-fish.csv\"\n",
    "\n",
    "df_choc = pd.read_csv(choc_path)\n",
    "df_choc.columns = ['ProductName', 'SellingPrice', 'Brand', 'Mrp', 'Discount',\n",
    "       'Combos', 'QuantityDisplay']\n",
    "\n",
    "df_choc = df_choc[df_choc['ProductName'].notna()]\n",
    "\n",
    "for char in spec_chars:\n",
    "    df_choc['ProductName'] = df_choc['ProductName'].str.replace(char, ' ')\n",
    "    df_choc['Brand'] = df_choc['Brand'].str.replace(char, ' ')\n",
    "    df_choc['Combos'] = df_choc['Combos'].str.replace(char, ' ')\n",
    "    df_choc['QuantityDisplay'] = df_choc['QuantityDisplay'].str.replace(char, ' ')\n",
    "    \n",
    "df_choc.to_csv(choc_export_path, index=False, header=True)"
   ]
  },
  {
   "cell_type": "code",
   "execution_count": null,
   "metadata": {},
   "outputs": [],
   "source": []
  },
  {
   "cell_type": "markdown",
   "metadata": {},
   "source": [
    "# 11. BB_feminine-hygiene.csv"
   ]
  },
  {
   "cell_type": "code",
   "execution_count": 46,
   "metadata": {},
   "outputs": [],
   "source": [
    "choc_path = r\"D:\\whatsapp-retailer-chatbot\\data\\interim\\BB_feminine-hygiene.csv\"\n",
    "choc_export_path = r\"D:\\whatsapp-retailer-chatbot\\data\\processed\\clean_feminine-hygiene.csv\"\n",
    "\n",
    "df_choc = pd.read_csv(choc_path)\n",
    "df_choc.columns = ['ProductName', 'SellingPrice', 'NumOfRatings', 'Mrp', 'Brand',\n",
    "       'Combos', 'Rating', 'Discount', 'QuantityDisplay']\n",
    "\n",
    "df_choc = df_choc[df_choc['ProductName'].notna()]\n",
    "\n",
    "for char in spec_chars:\n",
    "    df_choc['ProductName'] = df_choc['ProductName'].str.replace(char, ' ')\n",
    "    df_choc['Brand'] = df_choc['Brand'].str.replace(char, ' ')\n",
    "    df_choc['Combos'] = df_choc['Combos'].str.replace(char, ' ')\n",
    "    df_choc['QuantityDisplay'] = df_choc['QuantityDisplay'].str.replace(char, ' ')\n",
    "    \n",
    "df_choc.to_csv(choc_export_path, index=False, header=True)"
   ]
  },
  {
   "cell_type": "code",
   "execution_count": null,
   "metadata": {},
   "outputs": [],
   "source": []
  },
  {
   "cell_type": "markdown",
   "metadata": {},
   "source": [
    "# 12. BB_frozen-veggies-snacks.csv"
   ]
  },
  {
   "cell_type": "code",
   "execution_count": 47,
   "metadata": {},
   "outputs": [],
   "source": [
    "choc_path = r\"D:\\whatsapp-retailer-chatbot\\data\\interim\\BB_frozen-veggies-snacks.csv\"\n",
    "choc_export_path = r\"D:\\whatsapp-retailer-chatbot\\data\\processed\\clean_frozen-veggies-snacks.csv\"\n",
    "\n",
    "df_choc = pd.read_csv(choc_path)\n",
    "df_choc.columns = ['NumOfRatings', 'ProductName', 'SellingPrice', 'Mrp', 'Brand',\n",
    "       'Discount', 'Rating', 'Combos', 'QuantityDisplay']\n",
    "\n",
    "df_choc = df_choc[df_choc['ProductName'].notna()]\n",
    "\n",
    "for char in spec_chars:\n",
    "    df_choc['ProductName'] = df_choc['ProductName'].str.replace(char, ' ')\n",
    "    df_choc['Brand'] = df_choc['Brand'].str.replace(char, ' ')\n",
    "    df_choc['Combos'] = df_choc['Combos'].str.replace(char, ' ')\n",
    "    df_choc['QuantityDisplay'] = df_choc['QuantityDisplay'].str.replace(char, ' ')\n",
    "    \n",
    "df_choc.to_csv(choc_export_path, index=False, header=True)"
   ]
  },
  {
   "cell_type": "code",
   "execution_count": null,
   "metadata": {},
   "outputs": [],
   "source": []
  },
  {
   "cell_type": "markdown",
   "metadata": {},
   "source": [
    "# 13. BB_fruits-vegetables.csv"
   ]
  },
  {
   "cell_type": "code",
   "execution_count": 48,
   "metadata": {},
   "outputs": [],
   "source": [
    "choc_path = r\"D:\\whatsapp-retailer-chatbot\\data\\interim\\BB_fruits-vegetables.csv\"\n",
    "choc_export_path = r\"D:\\whatsapp-retailer-chatbot\\data\\processed\\clean_fruits-vegetables.csv\"\n",
    "\n",
    "df_choc = pd.read_csv(choc_path)\n",
    "df_choc.columns = ['ProductName', 'SellingPrice', 'Mrp', 'Combos', 'Discount',\n",
    "       'Brand', 'QuantityDisplay']\n",
    "\n",
    "df_choc = df_choc[df_choc['ProductName'].notna()]\n",
    "\n",
    "for char in spec_chars:\n",
    "    df_choc['ProductName'] = df_choc['ProductName'].str.replace(char, ' ')\n",
    "    df_choc['Brand'] = df_choc['Brand'].str.replace(char, ' ')\n",
    "    df_choc['Combos'] = df_choc['Combos'].str.replace(char, ' ')\n",
    "    df_choc['QuantityDisplay'] = df_choc['QuantityDisplay'].str.replace(char, ' ')\n",
    "    \n",
    "df_choc.to_csv(choc_export_path, index=False, header=True)"
   ]
  },
  {
   "cell_type": "code",
   "execution_count": null,
   "metadata": {},
   "outputs": [],
   "source": []
  },
  {
   "cell_type": "markdown",
   "metadata": {},
   "source": [
    "# 14. BB_indian-mithai.csv"
   ]
  },
  {
   "cell_type": "code",
   "execution_count": 49,
   "metadata": {},
   "outputs": [],
   "source": [
    "choc_path = r\"D:\\whatsapp-retailer-chatbot\\data\\interim\\BB_indian-mithai.csv\"\n",
    "choc_export_path = r\"D:\\whatsapp-retailer-chatbot\\data\\processed\\clean_indian-mithai.csv\"\n",
    "\n",
    "df_choc = pd.read_csv(choc_path)\n",
    "df_choc.columns = ['NumOfRatings', 'ProductName', 'SellingPrice', 'Brand', 'Rating',\n",
    "       'Combos', 'Mrp', 'Discount', 'QuantityDisplay']\n",
    "\n",
    "df_choc = df_choc[df_choc['ProductName'].notna()]\n",
    "\n",
    "for char in spec_chars:\n",
    "    df_choc['ProductName'] = df_choc['ProductName'].str.replace(char, ' ')\n",
    "    df_choc['Brand'] = df_choc['Brand'].str.replace(char, ' ')\n",
    "    df_choc['Combos'] = df_choc['Combos'].str.replace(char, ' ')\n",
    "    df_choc['QuantityDisplay'] = df_choc['QuantityDisplay'].str.replace(char, ' ')\n",
    "    \n",
    "df_choc.to_csv(choc_export_path, index=False, header=True)"
   ]
  },
  {
   "cell_type": "code",
   "execution_count": null,
   "metadata": {},
   "outputs": [],
   "source": []
  },
  {
   "cell_type": "markdown",
   "metadata": {},
   "source": [
    "# 15. BB_masala-and-spices.csv"
   ]
  },
  {
   "cell_type": "code",
   "execution_count": 50,
   "metadata": {},
   "outputs": [],
   "source": [
    "choc_path = r\"D:\\whatsapp-retailer-chatbot\\data\\interim\\BB_masala-and-spices.csv\"\n",
    "choc_export_path = r\"D:\\whatsapp-retailer-chatbot\\data\\processed\\clean_masala-and-spices.csv\"\n",
    "\n",
    "df_choc = pd.read_csv(choc_path)\n",
    "df_choc.columns = ['ProductName', 'NumOfRatings', 'SellingPrice', 'Mrp',\n",
    "       'Discount', 'Brand', 'Rating', 'Combos', 'QuantityDisplay']\n",
    "\n",
    "df_choc = df_choc[df_choc['ProductName'].notna()]\n",
    "\n",
    "for char in spec_chars:\n",
    "    df_choc['ProductName'] = df_choc['ProductName'].str.replace(char, ' ')\n",
    "    df_choc['Brand'] = df_choc['Brand'].str.replace(char, ' ')\n",
    "    df_choc['Combos'] = df_choc['Combos'].str.replace(char, ' ')\n",
    "    df_choc['QuantityDisplay'] = df_choc['QuantityDisplay'].str.replace(char, ' ')\n",
    "    \n",
    "df_choc.to_csv(choc_export_path, index=False, header=True)"
   ]
  },
  {
   "cell_type": "code",
   "execution_count": null,
   "metadata": {},
   "outputs": [],
   "source": []
  },
  {
   "cell_type": "markdown",
   "metadata": {},
   "source": [
    "# 16. BB_noodle-pasta-vermicelli.csv"
   ]
  },
  {
   "cell_type": "code",
   "execution_count": 51,
   "metadata": {},
   "outputs": [],
   "source": [
    "choc_path = r\"D:\\whatsapp-retailer-chatbot\\data\\interim\\BB_noodle-pasta-vermicelli.csv\"\n",
    "choc_export_path = r\"D:\\whatsapp-retailer-chatbot\\data\\processed\\clean_noodle-pasta-vermicelli.csv\"\n",
    "\n",
    "df_choc = pd.read_csv(choc_path)\n",
    "df_choc.columns = ['ProductName', 'NumOfRatings', 'SellingPrice', 'Mrp', 'Brand',\n",
    "       'QuantityDisplay', 'Combos', 'Discount', 'Rating']\n",
    "\n",
    "df_choc = df_choc[df_choc['ProductName'].notna()]\n",
    "\n",
    "for char in spec_chars:\n",
    "    df_choc['ProductName'] = df_choc['ProductName'].str.replace(char, ' ')\n",
    "    df_choc['Brand'] = df_choc['Brand'].str.replace(char, ' ')\n",
    "    df_choc['Combos'] = df_choc['Combos'].str.replace(char, ' ')\n",
    "    df_choc['QuantityDisplay'] = df_choc['QuantityDisplay'].str.replace(char, ' ')\n",
    "    \n",
    "df_choc.to_csv(choc_export_path, index=False, header=True)"
   ]
  },
  {
   "cell_type": "code",
   "execution_count": null,
   "metadata": {},
   "outputs": [],
   "source": []
  },
  {
   "cell_type": "markdown",
   "metadata": {},
   "source": [
    "# 17. BB_oral-care.csv"
   ]
  },
  {
   "cell_type": "code",
   "execution_count": 52,
   "metadata": {},
   "outputs": [],
   "source": [
    "choc_path = r\"D:\\whatsapp-retailer-chatbot\\data\\interim\\BB_oral-care.csv\"\n",
    "choc_export_path = r\"D:\\whatsapp-retailer-chatbot\\data\\processed\\clean_oral-care.csv\"\n",
    "\n",
    "df_choc = pd.read_csv(choc_path)\n",
    "df_choc.columns = ['ProductName', 'NumOfRatings', 'SellingPrice', 'Mrp', 'Combos',\n",
    "       'Discount', 'Brand', 'Rating', 'QuantityDisplay']\n",
    "\n",
    "df_choc = df_choc[df_choc['ProductName'].notna()]\n",
    "\n",
    "for char in spec_chars:\n",
    "    df_choc['ProductName'] = df_choc['ProductName'].str.replace(char, ' ')\n",
    "    df_choc['Brand'] = df_choc['Brand'].str.replace(char, ' ')\n",
    "    df_choc['Combos'] = df_choc['Combos'].str.replace(char, ' ')\n",
    "    df_choc['QuantityDisplay'] = df_choc['QuantityDisplay'].str.replace(char, ' ')\n",
    "    \n",
    "df_choc.to_csv(choc_export_path, index=False, header=True)"
   ]
  },
  {
   "cell_type": "code",
   "execution_count": null,
   "metadata": {},
   "outputs": [],
   "source": []
  },
  {
   "cell_type": "markdown",
   "metadata": {},
   "source": [
    "# 18. BB_organic-staples.csv"
   ]
  },
  {
   "cell_type": "code",
   "execution_count": 53,
   "metadata": {},
   "outputs": [],
   "source": [
    "choc_path = r\"D:\\whatsapp-retailer-chatbot\\data\\interim\\BB_organic-staples.csv\"\n",
    "choc_export_path = r\"D:\\whatsapp-retailer-chatbot\\data\\processed\\clean_organic-staples.csv\"\n",
    "\n",
    "df_choc = pd.read_csv(choc_path)\n",
    "df_choc.columns = ['ProductName', 'SellingPrice', 'NumOfRatings', 'Mrp',\n",
    "       'Discount', 'Rating', 'Brand', 'QuantityDisplay', 'Combos']\n",
    "\n",
    "df_choc = df_choc[df_choc['ProductName'].notna()]\n",
    "\n",
    "for char in spec_chars:\n",
    "    df_choc['ProductName'] = df_choc['ProductName'].str.replace(char, ' ')\n",
    "    df_choc['Brand'] = df_choc['Brand'].str.replace(char, ' ')\n",
    "    df_choc['Combos'] = df_choc['Combos'].str.replace(char, ' ')\n",
    "    df_choc['QuantityDisplay'] = df_choc['QuantityDisplay'].str.replace(char, ' ')\n",
    "    \n",
    "df_choc.to_csv(choc_export_path, index=False, header=True)"
   ]
  },
  {
   "cell_type": "code",
   "execution_count": null,
   "metadata": {},
   "outputs": [],
   "source": []
  },
  {
   "cell_type": "markdown",
   "metadata": {},
   "source": [
    "# 19. BB_pickles-chutney.csv"
   ]
  },
  {
   "cell_type": "code",
   "execution_count": 54,
   "metadata": {},
   "outputs": [],
   "source": [
    "choc_path = r\"D:\\whatsapp-retailer-chatbot\\data\\interim\\BB_pickles-chutney.csv\"\n",
    "choc_export_path = r\"D:\\whatsapp-retailer-chatbot\\data\\processed\\clean_pickles-chutney.csv\"\n",
    "\n",
    "df_choc = pd.read_csv(choc_path)\n",
    "df_choc.columns = ['NumOfRatings', 'ProductName', 'SellingPrice', 'Brand', 'Rating',\n",
    "       'QuantityDisplay', 'Mrp', 'Discount', 'Combos']\n",
    "\n",
    "df_choc = df_choc[df_choc['ProductName'].notna()]\n",
    "\n",
    "for char in spec_chars:\n",
    "    df_choc['ProductName'] = df_choc['ProductName'].str.replace(char, ' ')\n",
    "    df_choc['Brand'] = df_choc['Brand'].str.replace(char, ' ')\n",
    "    df_choc['Combos'] = df_choc['Combos'].str.replace(char, ' ')\n",
    "    df_choc['QuantityDisplay'] = df_choc['QuantityDisplay'].str.replace(char, ' ')\n",
    "    \n",
    "df_choc.to_csv(choc_export_path, index=False, header=True)"
   ]
  },
  {
   "cell_type": "code",
   "execution_count": null,
   "metadata": {},
   "outputs": [],
   "source": []
  },
  {
   "cell_type": "markdown",
   "metadata": {},
   "source": [
    "# 20. BB_ready-to-cook-eat.csv"
   ]
  },
  {
   "cell_type": "code",
   "execution_count": 55,
   "metadata": {},
   "outputs": [],
   "source": [
    "choc_path = r\"D:\\whatsapp-retailer-chatbot\\data\\interim\\BB_ready-to-cook-eat.csv\"\n",
    "choc_export_path = r\"D:\\whatsapp-retailer-chatbot\\data\\processed\\clean_ready-to-cook-eat.csv\"\n",
    "\n",
    "df_choc = pd.read_csv(choc_path)\n",
    "df_choc.columns = ['ProductName', 'NumOfRatings', 'SellingPrice', 'Brand', 'Mrp',\n",
    "       'Combos', 'Rating', 'Discount', 'QuantityDisplay']\n",
    "\n",
    "df_choc = df_choc[df_choc['ProductName'].notna()]\n",
    "\n",
    "for char in spec_chars:\n",
    "    df_choc['ProductName'] = df_choc['ProductName'].str.replace(char, ' ')\n",
    "    df_choc['Brand'] = df_choc['Brand'].str.replace(char, ' ')\n",
    "    df_choc['Combos'] = df_choc['Combos'].str.replace(char, ' ')\n",
    "    df_choc['QuantityDisplay'] = df_choc['QuantityDisplay'].str.replace(char, ' ')\n",
    "    \n",
    "df_choc.to_csv(choc_export_path, index=False, header=True)"
   ]
  },
  {
   "cell_type": "code",
   "execution_count": null,
   "metadata": {},
   "outputs": [],
   "source": []
  },
  {
   "cell_type": "markdown",
   "metadata": {},
   "source": [
    "# 21. BB_rice-products.csv"
   ]
  },
  {
   "cell_type": "code",
   "execution_count": 56,
   "metadata": {},
   "outputs": [],
   "source": [
    "choc_path = r\"D:\\whatsapp-retailer-chatbot\\data\\interim\\BB_rice-products.csv\"\n",
    "choc_export_path = r\"D:\\whatsapp-retailer-chatbot\\data\\processed\\clean_rice-products.csv\"\n",
    "\n",
    "df_choc = pd.read_csv(choc_path)\n",
    "df_choc.columns = ['ProductName', 'SellingPrice', 'Mrp', 'NumOfRatings',\n",
    "       'Discount', 'Brand', 'Rating', 'QuantityDisplay']\n",
    "\n",
    "df_choc = df_choc[df_choc['ProductName'].notna()]\n",
    "\n",
    "for char in spec_chars:\n",
    "    df_choc['ProductName'] = df_choc['ProductName'].str.replace(char, ' ')\n",
    "    df_choc['Brand'] = df_choc['Brand'].str.replace(char, ' ')\n",
    "    df_choc['QuantityDisplay'] = df_choc['QuantityDisplay'].str.replace(char, ' ')\n",
    "    \n",
    "df_choc.to_csv(choc_export_path, index=False, header=True)"
   ]
  },
  {
   "cell_type": "code",
   "execution_count": null,
   "metadata": {},
   "outputs": [],
   "source": []
  },
  {
   "cell_type": "markdown",
   "metadata": {},
   "source": [
    "# 22. BB_salt-sugar-jaggery.csv"
   ]
  },
  {
   "cell_type": "code",
   "execution_count": 57,
   "metadata": {},
   "outputs": [],
   "source": [
    "choc_path = r\"D:\\whatsapp-retailer-chatbot\\data\\interim\\BB_salt-sugar-jaggery.csv\"\n",
    "choc_export_path = r\"D:\\whatsapp-retailer-chatbot\\data\\processed\\clean_salt-sugar-jaggery.csv\"\n",
    "\n",
    "df_choc = pd.read_csv(choc_path)\n",
    "df_choc.columns = ['SellingPrice', 'ProductName', 'num-of_Ratings', 'Mrp',\n",
    "       'Discount', 'Brand', 'Combos', 'Rating', 'QuantityDisplay']\n",
    "\n",
    "df_choc = df_choc[df_choc['ProductName'].notna()]\n",
    "\n",
    "for char in spec_chars:\n",
    "    df_choc['ProductName'] = df_choc['ProductName'].str.replace(char, ' ')\n",
    "    df_choc['Brand'] = df_choc['Brand'].str.replace(char, ' ')\n",
    "    df_choc['Combos'] = df_choc['Combos'].str.replace(char, ' ')\n",
    "    df_choc['QuantityDisplay'] = df_choc['QuantityDisplay'].str.replace(char, ' ')\n",
    "    \n",
    "df_choc.to_csv(choc_export_path, index=False, header=True)"
   ]
  },
  {
   "cell_type": "code",
   "execution_count": null,
   "metadata": {},
   "outputs": [],
   "source": []
  },
  {
   "cell_type": "markdown",
   "metadata": {},
   "source": [
    "# 23. BB_snacks-namkeen.csv"
   ]
  },
  {
   "cell_type": "code",
   "execution_count": 58,
   "metadata": {},
   "outputs": [],
   "source": [
    "choc_path = r\"D:\\whatsapp-retailer-chatbot\\data\\interim\\BB_snacks-namkeen.csv\"\n",
    "choc_export_path = r\"D:\\whatsapp-retailer-chatbot\\data\\processed\\clean_snacks-namkeen.csv\"\n",
    "\n",
    "df_choc = pd.read_csv(choc_path)\n",
    "df_choc.columns = ['ProductName', 'NumOfRatings', 'SellingPrice', 'Combos', 'Brand',\n",
    "       'Mrp', 'Discount', 'Rating', 'QuantityDisplay']\n",
    "\n",
    "df_choc = df_choc[df_choc['ProductName'].notna()]\n",
    "\n",
    "for char in spec_chars:\n",
    "    df_choc['ProductName'] = df_choc['ProductName'].str.replace(char, ' ')\n",
    "    df_choc['Brand'] = df_choc['Brand'].str.replace(char, ' ')\n",
    "    df_choc['Combos'] = df_choc['Combos'].str.replace(char, ' ')\n",
    "    df_choc['QuantityDisplay'] = df_choc['QuantityDisplay'].str.replace(char, ' ')\n",
    "    \n",
    "df_choc.to_csv(choc_export_path, index=False, header=True)"
   ]
  },
  {
   "cell_type": "code",
   "execution_count": null,
   "metadata": {},
   "outputs": [],
   "source": []
  },
  {
   "cell_type": "markdown",
   "metadata": {},
   "source": [
    "# 24. BB_spreads-sauces-ketchups.csv"
   ]
  },
  {
   "cell_type": "code",
   "execution_count": 59,
   "metadata": {},
   "outputs": [],
   "source": [
    "choc_path = r\"D:\\whatsapp-retailer-chatbot\\data\\interim\\BB_spreads-sauces-ketchups.csv\"\n",
    "choc_export_path = r\"D:\\whatsapp-retailer-chatbot\\data\\processed\\clean_spreads-sauces-ketchups.csv\"\n",
    "\n",
    "df_choc = pd.read_csv(choc_path)\n",
    "df_choc.columns = ['ProductName', 'NumOfRatings', 'SellingPrice', 'Brand', 'Mrp',\n",
    "       'QuantityDisplay', 'Discount', 'Rating', 'Combos']\n",
    "\n",
    "df_choc = df_choc[df_choc['ProductName'].notna()]\n",
    "\n",
    "for char in spec_chars:\n",
    "    df_choc['ProductName'] = df_choc['ProductName'].str.replace(char, ' ')\n",
    "    df_choc['Brand'] = df_choc['Brand'].str.replace(char, ' ')\n",
    "    df_choc['Combos'] = df_choc['Combos'].str.replace(char, ' ')\n",
    "    df_choc['QuantityDisplay'] = df_choc['QuantityDisplay'].str.replace(char, ' ')\n",
    "    \n",
    "df_choc.to_csv(choc_export_path, index=False, header=True)"
   ]
  },
  {
   "cell_type": "code",
   "execution_count": null,
   "metadata": {},
   "outputs": [],
   "source": []
  },
  {
   "cell_type": "markdown",
   "metadata": {},
   "source": [
    "# 25. BB_tea-beverages.csv"
   ]
  },
  {
   "cell_type": "code",
   "execution_count": 60,
   "metadata": {},
   "outputs": [],
   "source": [
    "choc_path = r\"D:\\whatsapp-retailer-chatbot\\data\\interim\\BB_tea-beverages.csv\"\n",
    "choc_export_path = r\"D:\\whatsapp-retailer-chatbot\\data\\processed\\clean_tea-beverages.csv\"\n",
    "\n",
    "df_choc = pd.read_csv(choc_path)\n",
    "df_choc.columns = ['ProductName', 'SellingPrice', 'NumOfRatings', 'Brand', 'Mrp',\n",
    "       'Discount', 'Rating', 'QuantityDisplay', 'Combos']\n",
    "\n",
    "df_choc = df_choc[df_choc['ProductName'].notna()]\n",
    "\n",
    "for char in spec_chars:\n",
    "    df_choc['ProductName'] = df_choc['ProductName'].str.replace(char, ' ')\n",
    "    df_choc['Brand'] = df_choc['Brand'].str.replace(char, ' ')\n",
    "    df_choc['Combos'] = df_choc['Combos'].str.replace(char, ' ')\n",
    "    df_choc['QuantityDisplay'] = df_choc['QuantityDisplay'].str.replace(char, ' ')\n",
    "    \n",
    "df_choc.to_csv(choc_export_path, index=False, header=True)"
   ]
  },
  {
   "cell_type": "code",
   "execution_count": null,
   "metadata": {},
   "outputs": [],
   "source": []
  },
  {
   "cell_type": "markdown",
   "metadata": {},
   "source": [
    "# Converting it to script"
   ]
  },
  {
   "cell_type": "code",
   "execution_count": 61,
   "metadata": {},
   "outputs": [
    {
     "name": "stderr",
     "output_type": "stream",
     "text": [
      "[NbConvertApp] Converting notebook interim-to-processed.ipynb to script\n",
      "[NbConvertApp] Writing 19563 bytes to interim-to-processed.txt\n"
     ]
    }
   ],
   "source": [
    "!jupyter nbconvert --to script interim-to-processed.ipynb"
   ]
  },
  {
   "cell_type": "code",
   "execution_count": null,
   "metadata": {},
   "outputs": [],
   "source": []
  }
 ],
 "metadata": {
  "kernelspec": {
   "display_name": "Python 3",
   "language": "python",
   "name": "python3"
  }
 },
 "nbformat": 4,
 "nbformat_minor": 2
}
